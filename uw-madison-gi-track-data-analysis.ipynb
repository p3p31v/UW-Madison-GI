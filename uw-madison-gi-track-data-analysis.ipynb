{
 "cells": [
  {
   "cell_type": "markdown",
   "id": "c1913d81",
   "metadata": {
    "papermill": {
     "duration": 0.004499,
     "end_time": "2022-06-01T17:59:32.264983",
     "exception": false,
     "start_time": "2022-06-01T17:59:32.260484",
     "status": "completed"
    },
    "tags": []
   },
   "source": [
    "# ****Please, vote up if you find the code useful :D ****"
   ]
  },
  {
   "cell_type": "markdown",
   "id": "5aeae96a",
   "metadata": {
    "papermill": {
     "duration": 0.003134,
     "end_time": "2022-06-01T17:59:32.274123",
     "exception": false,
     "start_time": "2022-06-01T17:59:32.270989",
     "status": "completed"
    },
    "tags": []
   },
   "source": []
  },
  {
   "cell_type": "code",
   "execution_count": 1,
   "id": "05f3c929",
   "metadata": {
    "_cell_guid": "b1076dfc-b9ad-4769-8c92-a6c4dae69d19",
    "_uuid": "8f2839f25d086af736a60e9eeb907d3b93b6e0e5",
    "execution": {
     "iopub.execute_input": "2022-06-01T17:59:32.283549Z",
     "iopub.status.busy": "2022-06-01T17:59:32.282746Z",
     "iopub.status.idle": "2022-06-01T17:59:33.828785Z",
     "shell.execute_reply": "2022-06-01T17:59:33.828091Z"
    },
    "papermill": {
     "duration": 1.553429,
     "end_time": "2022-06-01T17:59:33.831046",
     "exception": false,
     "start_time": "2022-06-01T17:59:32.277617",
     "status": "completed"
    },
    "tags": []
   },
   "outputs": [],
   "source": [
    "\n",
    "\n",
    "# This Python 3 environment comes with many helpful analytics libraries installed\n",
    "# It is defined by the kaggle/python Docker image: https://github.com/kaggle/docker-python\n",
    "# For example, here's several helpful packages to load\n",
    "\n",
    "import numpy as np # linear algebra\n",
    "import pandas as pd # data processing, CSV file I/O (e.g. pd.read_csv)\n",
    "\n",
    "# Input data files are available in the read-only \"../input/\" directory\n",
    "# For example, running this (by clicking run or pressing Shift+Enter) will list all files under the input directory\n",
    "\n",
    "import os\n",
    "import matplotlib.pyplot as plt\n",
    "import seaborn as sns\n",
    "\n",
    "import os\n",
    "\n",
    "from matplotlib import pyplot as plt\n",
    "\n",
    "from skimage import io\n",
    "from skimage.color import rgb2gray\n",
    "import math\n",
    "\n",
    "# You can write up to 20GB to the current directory (/kaggle/working/) that gets preserved as output when you create a version using \"Save & Run All\" \n",
    "# You can also write temporary files to /kaggle/temp/, but they won't be saved outside of the current session"
   ]
  },
  {
   "cell_type": "code",
   "execution_count": 2,
   "id": "56f46310",
   "metadata": {
    "execution": {
     "iopub.execute_input": "2022-06-01T17:59:33.839792Z",
     "iopub.status.busy": "2022-06-01T17:59:33.839312Z",
     "iopub.status.idle": "2022-06-01T17:59:34.400040Z",
     "shell.execute_reply": "2022-06-01T17:59:34.399107Z"
    },
    "papermill": {
     "duration": 0.567647,
     "end_time": "2022-06-01T17:59:34.402290",
     "exception": false,
     "start_time": "2022-06-01T17:59:33.834643",
     "status": "completed"
    },
    "tags": []
   },
   "outputs": [],
   "source": [
    "train_metadata = pd.read_csv('../input/../input/uw-madison-gi-tract-image-segmentation/train.csv')\n",
    "test = pd.read_csv('../input/../input/uw-madison-gi-tract-image-segmentation/sample_submission.csv')\n"
   ]
  },
  {
   "cell_type": "code",
   "execution_count": 3,
   "id": "cb37aaf1",
   "metadata": {
    "execution": {
     "iopub.execute_input": "2022-06-01T17:59:34.410922Z",
     "iopub.status.busy": "2022-06-01T17:59:34.410513Z",
     "iopub.status.idle": "2022-06-01T17:59:34.415892Z",
     "shell.execute_reply": "2022-06-01T17:59:34.414910Z"
    },
    "papermill": {
     "duration": 0.011968,
     "end_time": "2022-06-01T17:59:34.417983",
     "exception": false,
     "start_time": "2022-06-01T17:59:34.406015",
     "status": "completed"
    },
    "tags": []
   },
   "outputs": [],
   "source": [
    "df_test = pd.DataFrame(test)\n",
    "\n",
    "df_train = pd.DataFrame(train_metadata)"
   ]
  },
  {
   "cell_type": "code",
   "execution_count": 4,
   "id": "a7adb10b",
   "metadata": {
    "execution": {
     "iopub.execute_input": "2022-06-01T17:59:34.426642Z",
     "iopub.status.busy": "2022-06-01T17:59:34.426254Z",
     "iopub.status.idle": "2022-06-01T17:59:34.434623Z",
     "shell.execute_reply": "2022-06-01T17:59:34.433615Z"
    },
    "papermill": {
     "duration": 0.015216,
     "end_time": "2022-06-01T17:59:34.436790",
     "exception": false,
     "start_time": "2022-06-01T17:59:34.421574",
     "status": "completed"
    },
    "tags": []
   },
   "outputs": [
    {
     "data": {
      "text/plain": [
       "115488"
      ]
     },
     "execution_count": 4,
     "metadata": {},
     "output_type": "execute_result"
    }
   ],
   "source": [
    "len(df_train)"
   ]
  },
  {
   "cell_type": "code",
   "execution_count": 5,
   "id": "d193a330",
   "metadata": {
    "execution": {
     "iopub.execute_input": "2022-06-01T17:59:34.445642Z",
     "iopub.status.busy": "2022-06-01T17:59:34.445029Z",
     "iopub.status.idle": "2022-06-01T17:59:34.464964Z",
     "shell.execute_reply": "2022-06-01T17:59:34.463937Z"
    },
    "papermill": {
     "duration": 0.026685,
     "end_time": "2022-06-01T17:59:34.467118",
     "exception": false,
     "start_time": "2022-06-01T17:59:34.440433",
     "status": "completed"
    },
    "tags": []
   },
   "outputs": [
    {
     "data": {
      "text/html": [
       "<div>\n",
       "<style scoped>\n",
       "    .dataframe tbody tr th:only-of-type {\n",
       "        vertical-align: middle;\n",
       "    }\n",
       "\n",
       "    .dataframe tbody tr th {\n",
       "        vertical-align: top;\n",
       "    }\n",
       "\n",
       "    .dataframe thead th {\n",
       "        text-align: right;\n",
       "    }\n",
       "</style>\n",
       "<table border=\"1\" class=\"dataframe\">\n",
       "  <thead>\n",
       "    <tr style=\"text-align: right;\">\n",
       "      <th></th>\n",
       "      <th>id</th>\n",
       "      <th>class</th>\n",
       "      <th>segmentation</th>\n",
       "    </tr>\n",
       "  </thead>\n",
       "  <tbody>\n",
       "    <tr>\n",
       "      <th>0</th>\n",
       "      <td>case123_day20_slice_0001</td>\n",
       "      <td>large_bowel</td>\n",
       "      <td>NaN</td>\n",
       "    </tr>\n",
       "    <tr>\n",
       "      <th>1</th>\n",
       "      <td>case123_day20_slice_0001</td>\n",
       "      <td>small_bowel</td>\n",
       "      <td>NaN</td>\n",
       "    </tr>\n",
       "    <tr>\n",
       "      <th>2</th>\n",
       "      <td>case123_day20_slice_0001</td>\n",
       "      <td>stomach</td>\n",
       "      <td>NaN</td>\n",
       "    </tr>\n",
       "    <tr>\n",
       "      <th>3</th>\n",
       "      <td>case123_day20_slice_0002</td>\n",
       "      <td>large_bowel</td>\n",
       "      <td>NaN</td>\n",
       "    </tr>\n",
       "    <tr>\n",
       "      <th>4</th>\n",
       "      <td>case123_day20_slice_0002</td>\n",
       "      <td>small_bowel</td>\n",
       "      <td>NaN</td>\n",
       "    </tr>\n",
       "    <tr>\n",
       "      <th>...</th>\n",
       "      <td>...</td>\n",
       "      <td>...</td>\n",
       "      <td>...</td>\n",
       "    </tr>\n",
       "    <tr>\n",
       "      <th>115483</th>\n",
       "      <td>case30_day0_slice_0143</td>\n",
       "      <td>small_bowel</td>\n",
       "      <td>NaN</td>\n",
       "    </tr>\n",
       "    <tr>\n",
       "      <th>115484</th>\n",
       "      <td>case30_day0_slice_0143</td>\n",
       "      <td>stomach</td>\n",
       "      <td>NaN</td>\n",
       "    </tr>\n",
       "    <tr>\n",
       "      <th>115485</th>\n",
       "      <td>case30_day0_slice_0144</td>\n",
       "      <td>large_bowel</td>\n",
       "      <td>NaN</td>\n",
       "    </tr>\n",
       "    <tr>\n",
       "      <th>115486</th>\n",
       "      <td>case30_day0_slice_0144</td>\n",
       "      <td>small_bowel</td>\n",
       "      <td>NaN</td>\n",
       "    </tr>\n",
       "    <tr>\n",
       "      <th>115487</th>\n",
       "      <td>case30_day0_slice_0144</td>\n",
       "      <td>stomach</td>\n",
       "      <td>NaN</td>\n",
       "    </tr>\n",
       "  </tbody>\n",
       "</table>\n",
       "<p>115488 rows × 3 columns</p>\n",
       "</div>"
      ],
      "text/plain": [
       "                              id        class segmentation\n",
       "0       case123_day20_slice_0001  large_bowel          NaN\n",
       "1       case123_day20_slice_0001  small_bowel          NaN\n",
       "2       case123_day20_slice_0001      stomach          NaN\n",
       "3       case123_day20_slice_0002  large_bowel          NaN\n",
       "4       case123_day20_slice_0002  small_bowel          NaN\n",
       "...                          ...          ...          ...\n",
       "115483    case30_day0_slice_0143  small_bowel          NaN\n",
       "115484    case30_day0_slice_0143      stomach          NaN\n",
       "115485    case30_day0_slice_0144  large_bowel          NaN\n",
       "115486    case30_day0_slice_0144  small_bowel          NaN\n",
       "115487    case30_day0_slice_0144      stomach          NaN\n",
       "\n",
       "[115488 rows x 3 columns]"
      ]
     },
     "execution_count": 5,
     "metadata": {},
     "output_type": "execute_result"
    }
   ],
   "source": [
    "df_train"
   ]
  },
  {
   "cell_type": "code",
   "execution_count": 6,
   "id": "644f68ed",
   "metadata": {
    "execution": {
     "iopub.execute_input": "2022-06-01T17:59:34.476925Z",
     "iopub.status.busy": "2022-06-01T17:59:34.476145Z",
     "iopub.status.idle": "2022-06-01T17:59:34.774769Z",
     "shell.execute_reply": "2022-06-01T17:59:34.773619Z"
    },
    "papermill": {
     "duration": 0.305661,
     "end_time": "2022-06-01T17:59:34.776761",
     "exception": false,
     "start_time": "2022-06-01T17:59:34.471100",
     "status": "completed"
    },
    "tags": []
   },
   "outputs": [
    {
     "name": "stderr",
     "output_type": "stream",
     "text": [
      "/opt/conda/lib/python3.7/site-packages/seaborn/_decorators.py:43: FutureWarning: Pass the following variable as a keyword arg: x. From version 0.12, the only valid positional argument will be `data`, and passing other arguments without an explicit keyword will result in an error or misinterpretation.\n",
      "  FutureWarning\n"
     ]
    },
    {
     "data": {
      "image/png": "[encoded data removed]",
      "text/plain": [
       "<Figure size 1440x432 with 1 Axes>"
      ]
     },
     "metadata": {
      "needs_background": "light"
     },
     "output_type": "display_data"
    }
   ],
   "source": [
    "plt.figure(figsize=(20, 6))\n",
    "\n",
    "sns.countplot(df_train['class'])\n",
    "plt.title(\"Distribution of Ratings\", fontsize=20)\n",
    "\n",
    "plt.show()"
   ]
  },
  {
   "cell_type": "code",
   "execution_count": 7,
   "id": "1b0cddca",
   "metadata": {
    "execution": {
     "iopub.execute_input": "2022-06-01T17:59:34.786726Z",
     "iopub.status.busy": "2022-06-01T17:59:34.786347Z",
     "iopub.status.idle": "2022-06-01T17:59:34.794653Z",
     "shell.execute_reply": "2022-06-01T17:59:34.793696Z"
    },
    "papermill": {
     "duration": 0.015824,
     "end_time": "2022-06-01T17:59:34.796808",
     "exception": false,
     "start_time": "2022-06-01T17:59:34.780984",
     "status": "completed"
    },
    "tags": []
   },
   "outputs": [
    {
     "data": {
      "text/plain": [
       "float"
      ]
     },
     "execution_count": 7,
     "metadata": {},
     "output_type": "execute_result"
    }
   ],
   "source": [
    "type(df_train['segmentation'][0])"
   ]
  },
  {
   "cell_type": "code",
   "execution_count": 8,
   "id": "7504a94a",
   "metadata": {
    "execution": {
     "iopub.execute_input": "2022-06-01T17:59:34.807004Z",
     "iopub.status.busy": "2022-06-01T17:59:34.806594Z",
     "iopub.status.idle": "2022-06-01T17:59:35.594326Z",
     "shell.execute_reply": "2022-06-01T17:59:35.593410Z"
    },
    "papermill": {
     "duration": 0.795442,
     "end_time": "2022-06-01T17:59:35.596630",
     "exception": false,
     "start_time": "2022-06-01T17:59:34.801188",
     "status": "completed"
    },
    "tags": []
   },
   "outputs": [],
   "source": [
    "clase = []\n",
    "for i in range(len(df_train)):\n",
    "    try:\n",
    "        math.isnan(df_train['segmentation'][i])\n",
    "    except:\n",
    "        clase.append(df_train['class'][i])\n",
    "        "
   ]
  },
  {
   "cell_type": "code",
   "execution_count": 9,
   "id": "48af0f0b",
   "metadata": {
    "execution": {
     "iopub.execute_input": "2022-06-01T17:59:35.607010Z",
     "iopub.status.busy": "2022-06-01T17:59:35.606603Z",
     "iopub.status.idle": "2022-06-01T17:59:35.843864Z",
     "shell.execute_reply": "2022-06-01T17:59:35.842869Z"
    },
    "papermill": {
     "duration": 0.244772,
     "end_time": "2022-06-01T17:59:35.845920",
     "exception": false,
     "start_time": "2022-06-01T17:59:35.601148",
     "status": "completed"
    },
    "tags": []
   },
   "outputs": [
    {
     "name": "stderr",
     "output_type": "stream",
     "text": [
      "/opt/conda/lib/python3.7/site-packages/seaborn/_decorators.py:43: FutureWarning: Pass the following variable as a keyword arg: x. From version 0.12, the only valid positional argument will be `data`, and passing other arguments without an explicit keyword will result in an error or misinterpretation.\n",
      "  FutureWarning\n"
     ]
    },
    {
     "data": {
      "image/png": "[encoded data removed]",
      "text/plain": [
       "<Figure size 1440x432 with 1 Axes>"
      ]
     },
     "metadata": {
      "needs_background": "light"
     },
     "output_type": "display_data"
    }
   ],
   "source": [
    "plt.figure(figsize=(20, 6))\n",
    "\n",
    "sns.countplot(clase)\n",
    "plt.title(\"Distribution of Ratings\", fontsize=20)\n",
    "\n",
    "plt.show()"
   ]
  },
  {
   "cell_type": "code",
   "execution_count": 10,
   "id": "9db7e0a2",
   "metadata": {
    "execution": {
     "iopub.execute_input": "2022-06-01T17:59:35.857255Z",
     "iopub.status.busy": "2022-06-01T17:59:35.856895Z",
     "iopub.status.idle": "2022-06-01T17:59:35.860968Z",
     "shell.execute_reply": "2022-06-01T17:59:35.860297Z"
    },
    "papermill": {
     "duration": 0.012003,
     "end_time": "2022-06-01T17:59:35.862741",
     "exception": false,
     "start_time": "2022-06-01T17:59:35.850738",
     "status": "completed"
    },
    "tags": []
   },
   "outputs": [],
   "source": [
    "directory = '../input/uw-madison-gi-tract-image-segmentation/train/case101/case101_day20/scans/slice_0001_266_266_1.50_1.50.png'"
   ]
  },
  {
   "cell_type": "code",
   "execution_count": 11,
   "id": "ffd1a707",
   "metadata": {
    "execution": {
     "iopub.execute_input": "2022-06-01T17:59:35.873898Z",
     "iopub.status.busy": "2022-06-01T17:59:35.872940Z",
     "iopub.status.idle": "2022-06-01T17:59:36.197110Z",
     "shell.execute_reply": "2022-06-01T17:59:36.195755Z"
    },
    "papermill": {
     "duration": 0.331694,
     "end_time": "2022-06-01T17:59:36.199128",
     "exception": false,
     "start_time": "2022-06-01T17:59:35.867434",
     "status": "completed"
    },
    "tags": []
   },
   "outputs": [
    {
     "name": "stderr",
     "output_type": "stream",
     "text": [
      "/opt/conda/lib/python3.7/site-packages/skimage/io/_plugins/matplotlib_plugin.py:150: UserWarning: Low image data range; displaying image with stretched contrast.\n",
      "  lo, hi, cmap = _get_display_range(image)\n"
     ]
    },
    {
     "name": "stdout",
     "output_type": "stream",
     "text": [
      "[[ 0  0  0 ...  8 11 16]\n",
      " [ 0  0  0 ...  9 10 15]\n",
      " [ 0  0  0 ... 10 12 14]\n",
      " ...\n",
      " [ 0  0  0 ... 16 18 16]\n",
      " [ 0  0  0 ... 21 17 19]\n",
      " [ 0  0  0 ... 18 17 13]]\n"
     ]
    },
    {
     "data": {
      "image/png": "[encoded data removed]",
      "text/plain": [
       "<Figure size 432x288 with 2 Axes>"
      ]
     },
     "metadata": {
      "needs_background": "light"
     },
     "output_type": "display_data"
    }
   ],
   "source": [
    "io.imshow(directory) #muestro la imagen por pantalla\n",
    "image_0 = io.imread(directory) #convierto la imagen en array\n",
    "print(image_0)\n"
   ]
  },
  {
   "cell_type": "code",
   "execution_count": 12,
   "id": "9b7c22b2",
   "metadata": {
    "execution": {
     "iopub.execute_input": "2022-06-01T17:59:36.212392Z",
     "iopub.status.busy": "2022-06-01T17:59:36.211541Z",
     "iopub.status.idle": "2022-06-01T17:59:36.218013Z",
     "shell.execute_reply": "2022-06-01T17:59:36.217024Z"
    },
    "papermill": {
     "duration": 0.014898,
     "end_time": "2022-06-01T17:59:36.219805",
     "exception": false,
     "start_time": "2022-06-01T17:59:36.204907",
     "status": "completed"
    },
    "tags": []
   },
   "outputs": [
    {
     "data": {
      "text/plain": [
       "266"
      ]
     },
     "execution_count": 12,
     "metadata": {},
     "output_type": "execute_result"
    }
   ],
   "source": [
    "len(image_0)"
   ]
  },
  {
   "cell_type": "code",
   "execution_count": null,
   "id": "cf6617f2",
   "metadata": {
    "papermill": {
     "duration": 0.005213,
     "end_time": "2022-06-01T17:59:36.230661",
     "exception": false,
     "start_time": "2022-06-01T17:59:36.225448",
     "status": "completed"
    },
    "tags": []
   },
   "outputs": [],
   "source": []
  }
 ],
 "metadata": {
  "kernelspec": {
   "display_name": "Python 3",
   "language": "python",
   "name": "python3"
  },
  "language_info": {
   "codemirror_mode": {
    "name": "ipython",
    "version": 3
   },
   "file_extension": ".py",
   "mimetype": "text/x-python",
   "name": "python",
   "nbconvert_exporter": "python",
   "pygments_lexer": "ipython3",
   "version": "3.7.12"
  },
  "papermill": {
   "default_parameters": {},
   "duration": 13.701236,
   "end_time": "2022-06-01T17:59:36.955774",
   "environment_variables": {},
   "exception": null,
   "input_path": "__notebook__.ipynb",
   "output_path": "__notebook__.ipynb",
   "parameters": {},
   "start_time": "2022-06-01T17:59:23.254538",
   "version": "2.3.4"
  }
 },
 "nbformat": 4,
 "nbformat_minor": 5
}
